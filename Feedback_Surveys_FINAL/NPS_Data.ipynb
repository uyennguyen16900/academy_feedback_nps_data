{
 "cells": [
  {
   "cell_type": "code",
   "execution_count": 541,
   "metadata": {},
   "outputs": [],
   "source": [
    "import pandas as pd\n",
    "import numpy as np\n",
    "import scipy.stats\n",
    "import matplotlib\n",
    "import matplotlib.pyplot as plt\n",
    "from matplotlib.pyplot import figure\n",
    "from IPython import display\n",
    "import seaborn as sns\n",
    "import csv"
   ]
  },
  {
   "cell_type": "code",
   "execution_count": 542,
   "metadata": {},
   "outputs": [],
   "source": [
    "df = pd.read_csv('2017/Student_Feedback_Surveys-Superview.csv')"
   ]
  },
  {
   "cell_type": "code",
   "execution_count": 543,
   "metadata": {},
   "outputs": [],
   "source": [
    "df"
   ]
  },
  {
   "cell_type": "code",
   "execution_count": 544,
   "metadata": {},
   "outputs": [],
   "source": [
    "df_track = df.groupby('Track').size()\n",
    "\n",
    "df_track.plot(kind='pie', subplots=True, autopct='%1.1f%%', figsize=(8,8))\n",
    "plt.title('Pie Chart of Percentage of Students by Track ')\n",
    "plt.ylabel('')\n",
    "plt.show()\n"
   ]
  },
  {
   "cell_type": "code",
   "execution_count": 545,
   "metadata": {},
   "outputs": [],
   "source": [
    "df['Track'].value_counts().plot(kind='bar')"
   ]
  },
  {
   "cell_type": "markdown",
   "metadata": {},
   "source": [
    "### Convert 'Rating (Num)' column that is detected as Object into Integer"
   ]
  },
  {
   "cell_type": "code",
   "execution_count": 546,
   "metadata": {},
   "outputs": [],
   "source": [
    "df['Rating (Num)'] = pd.factorize(df['Rating (Num)'])[0]"
   ]
  },
  {
   "cell_type": "code",
   "execution_count": 547,
   "metadata": {},
   "outputs": [],
   "source": [
    "df['Rating (Num)'].dtype"
   ]
  },
  {
   "cell_type": "code",
   "execution_count": 548,
   "metadata": {},
   "outputs": [],
   "source": [
    "promoter_ls = len(df[df['Rating (Num)'] >= 9])\n",
    "passive_ls = len(df[(df['Rating (Num)'] > 6) & (df['Rating (Num)'] < 9)])\n",
    "detractor_ls = len(df[df['Rating (Num)'] <= 6])\n",
    "\n",
    "total = len(df['Rating (Num)'].dropna().values)\n",
    "# data = {'Promoter (9-10)': promoter_ls, 'Passive (7-8)': passive_ls, 'Detractor (1-6)': detractor_ls}\n",
    "# pd.DataFrame(data, index = ['Rating (Num)'])\n",
    "\n",
    "data = {'Percentage': [promoter_ls/total, passive_ls/total, detractor_ls/total]}\n",
    "nps_df = pd.DataFrame(data, index = ['Promoter (9-10)', 'Passive (7-8)', 'Detractor (1-6)'])\n",
    "nps_df.round(5)"
   ]
  },
  {
   "cell_type": "markdown",
   "metadata": {},
   "source": [
    "### NPS = (Promoters - Detractors) / (Promoters + Passives + Detractors)"
   ]
  },
  {
   "cell_type": "code",
   "execution_count": 549,
   "metadata": {},
   "outputs": [],
   "source": [
    "# import blender_notebook.plot as plots\n",
    "# plots.barplot(df.crosstab('Track', 'Rating (Num)', w='Weight', pct=True),stacked=False)\n",
    "df.groupby(['Week','Track'])['Category'].value_counts(normalize=True).unstack().plot(kind='bar', stacked=True)"
   ]
  },
  {
   "cell_type": "code",
   "execution_count": 550,
   "metadata": {},
   "outputs": [],
   "source": [
    "track_ls = list(df['Track'].dropna().sort_values().unique())\n",
    "\n",
    "data = {}\n",
    "for track in track_ls:\n",
    "    ls = []\n",
    "    ls.append(len(df[(df['Rating (Num)'] >= 9) & (df['Track'] == track)]))\n",
    "    ls.append(len(df[(df['Rating (Num)'] > 6) & (df['Rating (Num)'] < 9) & (df['Track'] == track)]))\n",
    "    ls.append(len(df[(df['Rating (Num)'] <= 6) & (df['Track'] == track)]))\n",
    "    data[track] = ls\n",
    "    \n",
    "nps_df = pd.DataFrame(data, index = ['Promoter (9-10)', 'Passive (7-8)', 'Detractor (1-6)'])\n",
    "\n",
    "nps_df"
   ]
  },
  {
   "cell_type": "code",
   "execution_count": 551,
   "metadata": {
    "scrolled": false
   },
   "outputs": [],
   "source": [
    "df['Category'] = ''\n",
    "\n",
    "df.loc[df['Rating (Num)'] >= 9, 'Category'] = 'Promoter (9-10)'\n",
    "df.loc[(df['Rating (Num)'] > 6) & (df['Rating (Num)'] < 9), 'Category'] = 'Passive (7-8)'\n",
    "df.loc[df['Rating (Num)'] <= 6, 'Category'] = 'Detractor (1-6)'\n",
    "# df\n",
    "sns.countplot(x='Track', hue='Category', data=df, palette=[\"#cf1543\", \"#fff04d\", \"#274ed9\"])"
   ]
  },
  {
   "cell_type": "code",
   "execution_count": 552,
   "metadata": {},
   "outputs": [],
   "source": [
    "sns.catplot(y='Location', hue='Category', kind='count', data=df, palette=[\"#cf1543\", \"#fff04d\", \"#274ed9\"])"
   ]
  },
  {
   "cell_type": "markdown",
   "metadata": {},
   "source": [
    "## Calculate weekly NPS for each track\n"
   ]
  },
  {
   "cell_type": "markdown",
   "metadata": {},
   "source": [
    "### Average NPS by Location"
   ]
  },
  {
   "cell_type": "code",
   "execution_count": 553,
   "metadata": {},
   "outputs": [],
   "source": [
    "def calculate_weekly_nps_by_location(week, location):\n",
    "    location_df = df[(df['Week'] == week) & (df['Location'] == location)]\n",
    "    promoter = len(location_df[location_df['Category'] == 'Promoter (9-10)'])\n",
    "    passive = len(location_df[location_df['Category'] == 'Passive (7-8)'])\n",
    "    detractor = len(location_df[location_df['Category'] == 'Detractor (1-6)'])\n",
    "    try:\n",
    "        nps = (promoter - detractor) / (promoter + passive + detractor) * 100\n",
    "    except ZeroDivisionError:  \n",
    "        nps = float('Nan')\n",
    "#         nps = 0\n",
    "    return nps "
   ]
  },
  {
   "cell_type": "code",
   "execution_count": 554,
   "metadata": {},
   "outputs": [],
   "source": [
    "week_ls = list(df['Week'].sort_values().unique())\n",
    "location_ls = list(df['Location'].dropna().sort_values().unique())\n",
    "d_dict = {}\n",
    "\n",
    "for week in week_ls:\n",
    "    nps_ls = []\n",
    "    for location in location_ls:\n",
    "        nps_ls.append(calculate_weekly_nps_by_location(week, location))\n",
    "    d_dict[week] = nps_ls\n",
    "    \n",
    "d_f = pd.DataFrame(d_dict, index=location_ls)\n",
    "d_f.round(2)\n"
   ]
  },
  {
   "cell_type": "code",
   "execution_count": 555,
   "metadata": {},
   "outputs": [],
   "source": [
    "df_each_location = ({'x1': d_f.iloc[0],\n",
    "                     'x2': d_f.iloc[1],\n",
    "                     'x3': d_f.iloc[2],\n",
    "                     'x4': d_f.iloc[3],\n",
    "                     'x5': d_f.iloc[4],\n",
    "                     'y': range(1,9)})\n",
    "\n",
    "fig, axes = plt.subplots(nrows=4, ncols=5, sharex=True, sharey='row', figsize=(10,10))\n",
    "axes_list = [item for sublist in axes for item in sublist] \n",
    "\n",
    "for countryname, selection in df_each_location:\n",
    "    ax = axes_list.pop(0)\n",
    "    selection.plot(x='Year', y='GDP_per_capita', label=countryname, ax=ax, legend=False, clip_on=False)\n",
    "    ax.set_title(countryname)\n",
    "    ax.tick_params(\n",
    "        which='both',\n",
    "        bottom='off',\n",
    "        left='off',\n",
    "        right='off',\n",
    "        top='off'\n",
    "    )\n",
    "    ax.grid(linewidth=0.25)\n",
    "    ax.set_xlim((1950, 2020))\n",
    "    ax.set_xlabel(\"\")\n",
    "    ax.set_xticks(range(1950, 2015, 25))\n",
    "    ax.spines['left'].set_visible(False)\n",
    "    ax.spines['top'].set_visible(False)\n",
    "    ax.spines['right'].set_visible(False)\n",
    "\n",
    "# Now use the matplotlib .remove() method to \n",
    "# delete anything we didn't use\n",
    "for ax in axes_list:\n",
    "    ax.remove()\n",
    "\n",
    "plt.tight_layout()"
   ]
  },
  {
   "cell_type": "code",
   "execution_count": null,
   "metadata": {},
   "outputs": [],
   "source": [
    "def calculate_weekly_nps(week, track):\n",
    "    track_df = df[(df['Week'] == week) & (df['Track'] == track)]\n",
    "    promoter = len(track_df[track_df['Category'] == 'Promoter (9-10)'])\n",
    "    passive = len(track_df[track_df['Category'] == 'Passive (7-8)'])\n",
    "    detractor = len(track_df[track_df['Category'] == 'Detractor (1-6)'])\n",
    "    try:\n",
    "        nps = (promoter - detractor) / (promoter + passive + detractor) * 100\n",
    "    except ZeroDivisionError:  \n",
    "        nps = float('Nan')\n",
    "#         nps = 0\n",
    "    return nps    "
   ]
  },
  {
   "cell_type": "raw",
   "metadata": {},
   "source": [
    "# week_ls = list(df['Week'].sort_values().unique())\n",
    "# track_ls = list(df['Track'].dropna().sort_values().unique())\n",
    "# def calculate_weekly_nps():\n",
    "# for week in week_ls:\n",
    "    \n",
    "#     promoters = 0\n",
    "#     detractors = 0\n",
    "#     passives = 0\n",
    "#     nps = (promoters - detractors) / (promoters + passives + detractors)\n",
    "# track_ls"
   ]
  },
  {
   "cell_type": "code",
   "execution_count": null,
   "metadata": {},
   "outputs": [],
   "source": [
    "week_ls = list(df['Week'].sort_values().unique())\n",
    "data_dict = {}\n",
    "\n",
    "for week in week_ls:\n",
    "    nps_ls = []\n",
    "    for track in track_ls:\n",
    "        nps_ls.append(calculate_weekly_nps(week, track))\n",
    "    data_dict[week] = nps_ls\n",
    "    \n",
    "data_f = pd.DataFrame(data_dict, index=track_ls)\n",
    "data_f.round(2)\n"
   ]
  },
  {
   "cell_type": "code",
   "execution_count": null,
   "metadata": {},
   "outputs": [],
   "source": [
    "df_each_track = ({'x1': data_f.iloc[0],\n",
    "                 'x2': data_f.iloc[1],\n",
    "                 'x3': data_f.iloc[2],\n",
    "                 'x4': data_f.iloc[3],\n",
    "                 'x5': data_f.iloc[4],\n",
    "                 'y': range(1,9)})\n",
    "\n",
    "plt.plot('y', 'x1', data=df_each_track, marker='', color='red', linewidth=2)\n",
    "plt.plot('y', 'x2', data=df_each_track, marker='', color='blue', linewidth=2)\n",
    "plt.plot('y', 'x3', data=df_each_track, marker='', color='green', linewidth=2)\n",
    "plt.plot('y', 'x4', data=df_each_track, marker='', color='orange', linewidth=2)\n",
    "plt.plot('y', 'x5', data=df_each_track, marker='', color='gray', linewidth=2)\n",
    "plt.title('Weeky NPS by Track in 2017')\n",
    "plt.xlabel('Week')\n",
    "plt.ylabel('NPS Score')\n",
    "plt.legend()\n"
   ]
  },
  {
   "cell_type": "code",
   "execution_count": null,
   "metadata": {},
   "outputs": [],
   "source": [
    "df[df['Track'] == 'Games'].sort_values('Week')\n"
   ]
  },
  {
   "cell_type": "code",
   "execution_count": null,
   "metadata": {},
   "outputs": [],
   "source": [
    "# g = sns.catplot(x='Track', col='deck', col_wrap=4,\n",
    "#                data=nps_df, kind='count')\n",
    "\n",
    "# fig.subtitle('sf')\n",
    "# plt.show()"
   ]
  },
  {
   "cell_type": "markdown",
   "metadata": {},
   "source": [
    "### Reason students enter low rate"
   ]
  },
  {
   "cell_type": "code",
   "execution_count": null,
   "metadata": {},
   "outputs": [],
   "source": [
    "pace_df = df[df['Category'] == 'Detractor (1-6)']\n",
    "g = sns.countplot(x='Schedule Pacing', hue='Category', data=pace_df, palette=(\"Blues_d\"))\n",
    "# g.set_plt.xticks(rotation=45)\n",
    "g.set_xticklabels(g.get_xticklabels(), rotation=30)"
   ]
  },
  {
   "cell_type": "markdown",
   "metadata": {},
   "source": [
    "### Schedule pacing by track"
   ]
  },
  {
   "cell_type": "code",
   "execution_count": null,
   "metadata": {},
   "outputs": [],
   "source": [
    "sns.countplot(x='Track', hue='Schedule Pacing', data=pace_df, palette=[\"#cf1543\", \"#fff04d\", \"#274ed9\", \"#b549e3\", \"#49e34e\"])\n",
    "plt.title('Schedule Pacing by Track')\n"
   ]
  },
  {
   "cell_type": "code",
   "execution_count": null,
   "metadata": {},
   "outputs": [],
   "source": [
    "len(df['ID'].unique())"
   ]
  },
  {
   "cell_type": "markdown",
   "metadata": {},
   "source": [
    "### Track Taken by Location\n"
   ]
  },
  {
   "cell_type": "code",
   "execution_count": null,
   "metadata": {},
   "outputs": [],
   "source": []
  },
  {
   "cell_type": "markdown",
   "metadata": {},
   "source": [
    "### Average NPS by Week\n"
   ]
  },
  {
   "cell_type": "code",
   "execution_count": null,
   "metadata": {},
   "outputs": [],
   "source": [
    "ave_ls = []\n",
    "for week in week_ls:\n",
    "    ave_ls.append(data_f[week].mean())\n",
    "    \n",
    "ave_nps = pd.DataFrame({'a': ave_ls,\n",
    "                       'y': range(1,9)})\n",
    "    \n",
    "plt.plot('y', 'a', data=ave_nps, marker='', color='orange', linewidth=2)\n",
    "\n"
   ]
  },
  {
   "cell_type": "code",
   "execution_count": null,
   "metadata": {},
   "outputs": [],
   "source": [
    "# sum all the rating not counts\n",
    "df[df['Week'] == 'Week 2'].groupby('Category').value_counts()\n"
   ]
  },
  {
   "cell_type": "code",
   "execution_count": null,
   "metadata": {},
   "outputs": [],
   "source": [
    "df[df['Week'] == 'Week 2'].sort_values('Category')\n"
   ]
  },
  {
   "cell_type": "code",
   "execution_count": 540,
   "metadata": {},
   "outputs": [],
   "source": [
    "df.head()"
   ]
  },
  {
   "cell_type": "code",
   "execution_count": null,
   "metadata": {},
   "outputs": [],
   "source": []
  },
  {
   "cell_type": "code",
   "execution_count": null,
   "metadata": {},
   "outputs": [],
   "source": []
  },
  {
   "cell_type": "code",
   "execution_count": null,
   "metadata": {},
   "outputs": [],
   "source": []
  }
 ],
 "metadata": {
  "kernelspec": {
   "display_name": "Python 3",
   "language": "python",
   "name": "python3"
  },
  "language_info": {
   "codemirror_mode": {
    "name": "ipython",
    "version": 3
   },
   "file_extension": ".py",
   "mimetype": "text/x-python",
   "name": "python",
   "nbconvert_exporter": "python",
   "pygments_lexer": "ipython3",
   "version": "3.7.4"
  }
 },
 "nbformat": 4,
 "nbformat_minor": 2
}
