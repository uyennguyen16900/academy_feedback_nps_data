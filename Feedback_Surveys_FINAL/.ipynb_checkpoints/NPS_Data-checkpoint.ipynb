{
 "cells": [
  {
   "cell_type": "code",
   "execution_count": 507,
   "metadata": {},
   "outputs": [],
   "source": [
    "import pandas as pd\n",
    "import numpy as np\n",
    "import scipy.stats\n",
    "import matplotlib\n",
    "import matplotlib.pyplot as plt\n",
    "from matplotlib.pyplot import figure\n",
    "from IPython import display\n",
    "import seaborn as sns\n",
    "import csv"
   ]
  },
  {
   "cell_type": "code",
   "execution_count": 508,
   "metadata": {},
   "outputs": [],
   "source": [
    "df = pd.read_csv('2017/Student_Feedback_Surveys-Superview.csv')"
   ]
  },
  {
   "cell_type": "code",
   "execution_count": 509,
   "metadata": {},
   "outputs": [],
   "source": [
    "df"
   ]
  },
  {
   "cell_type": "code",
   "execution_count": 510,
   "metadata": {},
   "outputs": [],
   "source": [
    "df_track = df.groupby('Track').size()\n",
    "\n",
    "df_track.plot(kind='pie', subplots=True, autopct='%1.1f%%', figsize=(8,8))\n",
    "plt.title('Pie Chart of Percentage of Students by Track ')\n",
    "plt.ylabel('')\n",
    "plt.show()\n"
   ]
  },
  {
   "cell_type": "code",
   "execution_count": 511,
   "metadata": {},
   "outputs": [],
   "source": [
    "df['Track'].value_counts().plot(kind='bar')"
   ]
  },
  {
   "cell_type": "markdown",
   "metadata": {},
   "source": [
    "### Convert 'Rating (Num)' column that is detected as Object into Integer"
   ]
  },
  {
   "cell_type": "code",
   "execution_count": 497,
   "metadata": {},
   "outputs": [],
   "source": [
    "df['Rating (Num)'] = pd.factorize(df['Rating (Num)'])[0]"
   ]
  },
  {
   "cell_type": "code",
   "execution_count": 498,
   "metadata": {},
   "outputs": [],
   "source": [
    "df['Rating (Num)'].dtype"
   ]
  },
  {
   "cell_type": "code",
   "execution_count": 499,
   "metadata": {},
   "outputs": [],
   "source": [
    "promoter_ls = len(df[df['Rating (Num)'] >= 9])\n",
    "passive_ls = len(df[(df['Rating (Num)'] > 6) & (df['Rating (Num)'] < 9)])\n",
    "detractor_ls = len(df[df['Rating (Num)'] <= 6])\n",
    "\n",
    "total = len(df['Rating (Num)'].dropna().values)\n",
    "# data = {'Promoter (9-10)': promoter_ls, 'Passive (7-8)': passive_ls, 'Detractor (1-6)': detractor_ls}\n",
    "# pd.DataFrame(data, index = ['Rating (Num)'])\n",
    "\n",
    "data = {'Percentage': [promoter_ls/total, passive_ls/total, detractor_ls/total]}\n",
    "nps_df = pd.DataFrame(data, index = ['Promoter (9-10)', 'Passive (7-8)', 'Detractor (1-6)'])\n",
    "nps_df.round(5)"
   ]
  },
  {
   "cell_type": "markdown",
   "metadata": {},
   "source": [
    "### NPS = (Promoters - Detractors) / (Promoters + Passives + Detractors)"
   ]
  },
  {
   "cell_type": "code",
   "execution_count": 500,
   "metadata": {},
   "outputs": [],
   "source": [
    "# import blender_notebook.plot as plots\n",
    "# plots.barplot(df.crosstab('Track', 'Rating (Num)', w='Weight', pct=True),stacked=False)\n",
    "df.groupby(['Week','Track'])['Category'].value_counts(normalize=True).unstack().plot(kind='bar', stacked=True)"
   ]
  },
  {
   "cell_type": "code",
   "execution_count": 501,
   "metadata": {},
   "outputs": [],
   "source": [
    "track_ls = list(df['Track'].dropna().sort_values().unique())\n",
    "\n",
    "data = {}\n",
    "for track in track_ls:\n",
    "    ls = []\n",
    "    ls.append(len(df[(df['Rating (Num)'] >= 9) & (df['Track'] == track)]))\n",
    "    ls.append(len(df[(df['Rating (Num)'] > 6) & (df['Rating (Num)'] < 9) & (df['Track'] == track)]))\n",
    "    ls.append(len(df[(df['Rating (Num)'] <= 6) & (df['Track'] == track)]))\n",
    "    data[track] = ls\n",
    "    \n",
    "nps_df = pd.DataFrame(data, index = ['Promoter (9-10)', 'Passive (7-8)', 'Detractor (1-6)'])\n",
    "\n",
    "nps_df"
   ]
  },
  {
   "cell_type": "code",
   "execution_count": 502,
   "metadata": {
    "scrolled": false
   },
   "outputs": [],
   "source": [
    "df['Category'] = ''\n",
    "\n",
    "df.loc[df['Rating (Num)'] >= 9, 'Category'] = 'Promoter (9-10)'\n",
    "df.loc[(df['Rating (Num)'] > 6) & (df['Rating (Num)'] < 9), 'Category'] = 'Passive (7-8)'\n",
    "df.loc[df['Rating (Num)'] <= 6, 'Category'] = 'Detractor (1-6)'\n",
    "# df\n",
    "sns.countplot(x='Track', hue='Category', data=df, palette=[\"#cf1543\", \"#fff04d\", \"#274ed9\"])"
   ]
  },
  {
   "cell_type": "code",
   "execution_count": 503,
   "metadata": {},
   "outputs": [],
   "source": [
    "sns.catplot(y='Location', hue='Category', kind='count', data=df, palette=[\"#cf1543\", \"#fff04d\", \"#274ed9\"])"
   ]
  },
  {
   "cell_type": "markdown",
   "metadata": {},
   "source": [
    "## Calculate weekly NPS for each track\n"
   ]
  },
  {
   "cell_type": "markdown",
   "metadata": {},
   "source": [
    "### Average NPS by Location"
   ]
  },
  {
   "cell_type": "code",
   "execution_count": 504,
   "metadata": {},
   "outputs": [],
   "source": [
    "def calculate_weekly_nps_by_location(week, location):\n",
    "    location_df = df[(df['Week'] == week) & (df['Location'] == location)]\n",
    "    promoter = len(location_df[location_df['Category'] == 'Promoter (9-10)'])\n",
    "    passive = len(location_df[location_df['Category'] == 'Passive (7-8)'])\n",
    "    detractor = len(location_df[location_df['Category'] == 'Detractor (1-6)'])\n",
    "    try:\n",
    "        nps = (promoter - detractor) / (promoter + passive + detractor) * 100\n",
    "    except ZeroDivisionError:  \n",
    "        nps = float('Nan')\n",
    "#         nps = 0\n",
    "    return nps "
   ]
  },
  {
   "cell_type": "code",
   "execution_count": 505,
   "metadata": {},
   "outputs": [],
   "source": [
    "week_ls = list(df['Week'].sort_values().unique())\n",
    "location_ls = list(df['Location'].dropna().sort_values().unique())\n",
    "d_dict = {}\n",
    "\n",
    "for week in week_ls:\n",
    "    nps_ls = []\n",
    "    for location in location_ls:\n",
    "        nps_ls.append(calculate_weekly_nps_by_location(week, location))\n",
    "    d_dict[week] = nps_ls\n",
    "    \n",
    "d_f = pd.DataFrame(d_dict, index=location_ls)\n",
    "d_f.round(2)\n"
   ]
  },
  {
   "cell_type": "code",
   "execution_count": 506,
   "metadata": {},
   "outputs": [],
   "source": [
    "df_each_location = ({'x1': d_f.iloc[0],\n",
    "                     'x2': d_f.iloc[1],\n",
    "                     'x3': d_f.iloc[2],\n",
    "                     'x4': d_f.iloc[3],\n",
    "                     'x5': d_f.iloc[4],\n",
    "                     'y': range(1,9)})\n",
    "\n",
    "fig, axes = plt.subplots(nrows=4, ncols=5, sharex=True, sharey='row', figsize=(10,10))\n",
    "axes_list = [item for sublist in axes for item in sublist] \n",
    "\n",
    "for countryname, selection in df_each_location:\n",
    "    ax = axes_list.pop(0)\n",
    "    selection.plot(x='Year', y='GDP_per_capita', label=countryname, ax=ax, legend=False, clip_on=False)\n",
    "    ax.set_title(countryname)\n",
    "    ax.tick_params(\n",
    "        which='both',\n",
    "        bottom='off',\n",
    "        left='off',\n",
    "        right='off',\n",
    "        top='off'\n",
    "    )\n",
    "    ax.grid(linewidth=0.25)\n",
    "    ax.set_xlim((1950, 2020))\n",
    "    ax.set_xlabel(\"\")\n",
    "    ax.set_xticks(range(1950, 2015, 25))\n",
    "    ax.spines['left'].set_visible(False)\n",
    "    ax.spines['top'].set_visible(False)\n",
    "    ax.spines['right'].set_visible(False)\n",
    "\n",
    "# Now use the matplotlib .remove() method to \n",
    "# delete anything we didn't use\n",
    "for ax in axes_list:\n",
    "    ax.remove()\n",
    "\n",
    "plt.tight_layout()"
   ]
  },
  {
   "cell_type": "code",
   "execution_count": null,
   "metadata": {},
   "outputs": [],
   "source": [
    "def calculate_weekly_nps(week, track):\n",
    "    track_df = df[(df['Week'] == week) & (df['Track'] == track)]\n",
    "    promoter = len(track_df[track_df['Category'] == 'Promoter (9-10)'])\n",
    "    passive = len(track_df[track_df['Category'] == 'Passive (7-8)'])\n",
    "    detractor = len(track_df[track_df['Category'] == 'Detractor (1-6)'])\n",
    "    try:\n",
    "        nps = (promoter - detractor) / (promoter + passive + detractor) * 100\n",
    "    except ZeroDivisionError:  \n",
    "        nps = float('Nan')\n",
    "#         nps = 0\n",
    "    return nps    "
   ]
  },
  {
   "cell_type": "raw",
   "metadata": {},
   "source": [
    "# week_ls = list(df['Week'].sort_values().unique())\n",
    "# track_ls = list(df['Track'].dropna().sort_values().unique())\n",
    "# def calculate_weekly_nps():\n",
    "# for week in week_ls:\n",
    "    \n",
    "#     promoters = 0\n",
    "#     detractors = 0\n",
    "#     passives = 0\n",
    "#     nps = (promoters - detractors) / (promoters + passives + detractors)\n",
    "# track_ls"
   ]
  },
  {
   "cell_type": "code",
   "execution_count": 480,
   "metadata": {},
   "outputs": [],
   "source": [
    "week_ls = list(df['Week'].sort_values().unique())\n",
    "data_dict = {}\n",
    "\n",
    "for week in week_ls:\n",
    "    nps_ls = []\n",
    "    for track in track_ls:\n",
    "        nps_ls.append(calculate_weekly_nps(week, track))\n",
    "    data_dict[week] = nps_ls\n",
    "    \n",
    "data_f = pd.DataFrame(data_dict, index=track_ls)\n",
    "data_f.round(2)\n"
   ]
  },
  {
   "cell_type": "code",
   "execution_count": 329,
   "metadata": {},
   "outputs": [
    {
     "data": {
      "text/plain": [
       "<matplotlib.legend.Legend at 0x1a21f79b10>"
      ]
     },
     "execution_count": 329,
     "metadata": {},
     "output_type": "execute_result"
    },
    {
     "data": {
      "image/png": "[encoded data removed]",
      "text/plain": [
       "<Figure size 432x288 with 1 Axes>"
      ]
     },
     "metadata": {
      "needs_background": "light"
     },
     "output_type": "display_data"
    }
   ],
   "source": [
    "df_each_track = ({'x1': data_f.iloc[0],\n",
    "                 'x2': data_f.iloc[1],\n",
    "                 'x3': data_f.iloc[2],\n",
    "                 'x4': data_f.iloc[3],\n",
    "                 'x5': data_f.iloc[4],\n",
    "                 'y': range(1,9)})\n",
    "\n",
    "plt.plot('y', 'x1', data=df_each_track, marker='', color='red', linewidth=2)\n",
    "plt.plot('y', 'x2', data=df_each_track, marker='', color='blue', linewidth=2)\n",
    "plt.plot('y', 'x3', data=df_each_track, marker='', color='green', linewidth=2)\n",
    "plt.plot('y', 'x4', data=df_each_track, marker='', color='orange', linewidth=2)\n",
    "plt.plot('y', 'x5', data=df_each_track, marker='', color='gray', linewidth=2)\n",
    "plt.title('Weeky NPS by Track in 2017')\n",
    "plt.xlabel('Week')\n",
    "plt.ylabel('NPS Score')\n",
    "plt.legend()\n"
   ]
  },
  {
   "cell_type": "code",
   "execution_count": 328,
   "metadata": {},
   "outputs": [
    {
     "data": {
      "text/html": [
       "<div>\n",
       "<style scoped>\n",
       "    .dataframe tbody tr th:only-of-type {\n",
       "        vertical-align: middle;\n",
       "    }\n",
       "\n",
       "    .dataframe tbody tr th {\n",
       "        vertical-align: top;\n",
       "    }\n",
       "\n",
       "    .dataframe thead th {\n",
       "        text-align: right;\n",
       "    }\n",
       "</style>\n",
       "<table border=\"1\" class=\"dataframe\">\n",
       "  <thead>\n",
       "    <tr style=\"text-align: right;\">\n",
       "      <th></th>\n",
       "      <th>ID</th>\n",
       "      <th>Location</th>\n",
       "      <th>Track</th>\n",
       "      <th>Week</th>\n",
       "      <th>Rating (Num)</th>\n",
       "      <th>Schedule Pacing</th>\n",
       "      <th>Category</th>\n",
       "    </tr>\n",
       "  </thead>\n",
       "  <tbody>\n",
       "    <tr>\n",
       "      <td>2</td>\n",
       "      <td>117</td>\n",
       "      <td>San Francisco</td>\n",
       "      <td>Games</td>\n",
       "      <td>Week 1</td>\n",
       "      <td>1</td>\n",
       "      <td>Way too slow</td>\n",
       "      <td>Detractor (1-6)</td>\n",
       "    </tr>\n",
       "    <tr>\n",
       "      <td>203</td>\n",
       "      <td>345</td>\n",
       "      <td>New York City</td>\n",
       "      <td>Games</td>\n",
       "      <td>Week 1</td>\n",
       "      <td>5</td>\n",
       "      <td>A little too fast</td>\n",
       "      <td>Detractor (1-6)</td>\n",
       "    </tr>\n",
       "    <tr>\n",
       "      <td>212</td>\n",
       "      <td>368</td>\n",
       "      <td>New York City</td>\n",
       "      <td>Games</td>\n",
       "      <td>Week 1</td>\n",
       "      <td>5</td>\n",
       "      <td>Just right</td>\n",
       "      <td>Detractor (1-6)</td>\n",
       "    </tr>\n",
       "    <tr>\n",
       "      <td>258</td>\n",
       "      <td>27</td>\n",
       "      <td>Los Angeles</td>\n",
       "      <td>Games</td>\n",
       "      <td>Week 1</td>\n",
       "      <td>6</td>\n",
       "      <td>Just right</td>\n",
       "      <td>Detractor (1-6)</td>\n",
       "    </tr>\n",
       "    <tr>\n",
       "      <td>261</td>\n",
       "      <td>33</td>\n",
       "      <td>Los Angeles</td>\n",
       "      <td>Games</td>\n",
       "      <td>Week 1</td>\n",
       "      <td>6</td>\n",
       "      <td>Just right</td>\n",
       "      <td>Detractor (1-6)</td>\n",
       "    </tr>\n",
       "    <tr>\n",
       "      <td>...</td>\n",
       "      <td>...</td>\n",
       "      <td>...</td>\n",
       "      <td>...</td>\n",
       "      <td>...</td>\n",
       "      <td>...</td>\n",
       "      <td>...</td>\n",
       "      <td>...</td>\n",
       "    </tr>\n",
       "    <tr>\n",
       "      <td>1444</td>\n",
       "      <td>1491</td>\n",
       "      <td>New York City</td>\n",
       "      <td>Games</td>\n",
       "      <td>Week 7</td>\n",
       "      <td>6</td>\n",
       "      <td>A little too fast</td>\n",
       "      <td>Detractor (1-6)</td>\n",
       "    </tr>\n",
       "    <tr>\n",
       "      <td>1395</td>\n",
       "      <td>1442</td>\n",
       "      <td>Los Angeles</td>\n",
       "      <td>Games</td>\n",
       "      <td>Week 8</td>\n",
       "      <td>4</td>\n",
       "      <td>Way too fast</td>\n",
       "      <td>Detractor (1-6)</td>\n",
       "    </tr>\n",
       "    <tr>\n",
       "      <td>1397</td>\n",
       "      <td>1444</td>\n",
       "      <td>Los Angeles</td>\n",
       "      <td>Games</td>\n",
       "      <td>Week 8</td>\n",
       "      <td>6</td>\n",
       "      <td>Just right</td>\n",
       "      <td>Detractor (1-6)</td>\n",
       "    </tr>\n",
       "    <tr>\n",
       "      <td>1399</td>\n",
       "      <td>1446</td>\n",
       "      <td>Los Angeles</td>\n",
       "      <td>Games</td>\n",
       "      <td>Week 8</td>\n",
       "      <td>6</td>\n",
       "      <td>A little too slow</td>\n",
       "      <td>Detractor (1-6)</td>\n",
       "    </tr>\n",
       "    <tr>\n",
       "      <td>1418</td>\n",
       "      <td>1465</td>\n",
       "      <td>Los Angeles</td>\n",
       "      <td>Games</td>\n",
       "      <td>Week 8</td>\n",
       "      <td>5</td>\n",
       "      <td>A little too slow</td>\n",
       "      <td>Detractor (1-6)</td>\n",
       "    </tr>\n",
       "  </tbody>\n",
       "</table>\n",
       "<p>208 rows × 7 columns</p>\n",
       "</div>"
      ],
      "text/plain": [
       "        ID       Location  Track    Week  Rating (Num)    Schedule Pacing  \\\n",
       "2      117  San Francisco  Games  Week 1             1       Way too slow   \n",
       "203    345  New York City  Games  Week 1             5  A little too fast   \n",
       "212    368  New York City  Games  Week 1             5         Just right   \n",
       "258     27    Los Angeles  Games  Week 1             6         Just right   \n",
       "261     33    Los Angeles  Games  Week 1             6         Just right   \n",
       "...    ...            ...    ...     ...           ...                ...   \n",
       "1444  1491  New York City  Games  Week 7             6  A little too fast   \n",
       "1395  1442    Los Angeles  Games  Week 8             4       Way too fast   \n",
       "1397  1444    Los Angeles  Games  Week 8             6         Just right   \n",
       "1399  1446    Los Angeles  Games  Week 8             6  A little too slow   \n",
       "1418  1465    Los Angeles  Games  Week 8             5  A little too slow   \n",
       "\n",
       "             Category  \n",
       "2     Detractor (1-6)  \n",
       "203   Detractor (1-6)  \n",
       "212   Detractor (1-6)  \n",
       "258   Detractor (1-6)  \n",
       "261   Detractor (1-6)  \n",
       "...               ...  \n",
       "1444  Detractor (1-6)  \n",
       "1395  Detractor (1-6)  \n",
       "1397  Detractor (1-6)  \n",
       "1399  Detractor (1-6)  \n",
       "1418  Detractor (1-6)  \n",
       "\n",
       "[208 rows x 7 columns]"
      ]
     },
     "execution_count": 328,
     "metadata": {},
     "output_type": "execute_result"
    }
   ],
   "source": [
    "df[df['Track'] == 'Games'].sort_values('Week')\n"
   ]
  },
  {
   "cell_type": "code",
   "execution_count": 369,
   "metadata": {},
   "outputs": [],
   "source": [
    "# g = sns.catplot(x='Track', col='deck', col_wrap=4,\n",
    "#                data=nps_df, kind='count')\n",
    "\n",
    "# fig.subtitle('sf')\n",
    "# plt.show()"
   ]
  },
  {
   "cell_type": "markdown",
   "metadata": {},
   "source": [
    "### Reason students enter low rate"
   ]
  },
  {
   "cell_type": "code",
   "execution_count": 441,
   "metadata": {},
   "outputs": [
    {
     "data": {
      "text/plain": [
       "[Text(0, 0, 'Just right'),\n",
       " Text(0, 0, 'A little too fast'),\n",
       " Text(0, 0, 'Way too slow'),\n",
       " Text(0, 0, 'A little too slow'),\n",
       " Text(0, 0, 'Way too fast')]"
      ]
     },
     "execution_count": 441,
     "metadata": {},
     "output_type": "execute_result"
    },
    {
     "data": {
      "image/png": "[encoded data removed]",
      "text/plain": [
       "<Figure size 432x288 with 1 Axes>"
      ]
     },
     "metadata": {
      "needs_background": "light"
     },
     "output_type": "display_data"
    }
   ],
   "source": [
    "pace_df = df[df['Category'] == 'Detractor (1-6)']\n",
    "g = sns.countplot(x='Schedule Pacing', hue='Category', data=pace_df, palette=(\"Blues_d\"))\n",
    "# g.set_plt.xticks(rotation=45)\n",
    "g.set_xticklabels(g.get_xticklabels(), rotation=30)"
   ]
  },
  {
   "cell_type": "markdown",
   "metadata": {},
   "source": [
    "### Schedule pacing by track"
   ]
  },
  {
   "cell_type": "code",
   "execution_count": 368,
   "metadata": {},
   "outputs": [
    {
     "data": {
      "text/plain": [
       "Text(0.5, 1.0, 'Schedule Pacing by Track')"
      ]
     },
     "execution_count": 368,
     "metadata": {},
     "output_type": "execute_result"
    },
    {
     "data": {
      "image/png": "[encoded data removed]",
      "text/plain": [
       "<Figure size 432x288 with 1 Axes>"
      ]
     },
     "metadata": {
      "needs_background": "light"
     },
     "output_type": "display_data"
    }
   ],
   "source": [
    "sns.countplot(x='Track', hue='Schedule Pacing', data=pace_df, palette=[\"#cf1543\", \"#fff04d\", \"#274ed9\", \"#b549e3\", \"#49e34e\"])\n",
    "plt.title('Schedule Pacing by Track')\n"
   ]
  },
  {
   "cell_type": "code",
   "execution_count": 376,
   "metadata": {},
   "outputs": [
    {
     "data": {
      "text/plain": [
       "1453"
      ]
     },
     "execution_count": 376,
     "metadata": {},
     "output_type": "execute_result"
    }
   ],
   "source": [
    "len(df['ID'].unique())"
   ]
  },
  {
   "cell_type": "markdown",
   "metadata": {},
   "source": [
    "### Track Taken by Location\n"
   ]
  },
  {
   "cell_type": "code",
   "execution_count": null,
   "metadata": {},
   "outputs": [],
   "source": []
  },
  {
   "cell_type": "markdown",
   "metadata": {},
   "source": [
    "### Average NPS by Week\n"
   ]
  },
  {
   "cell_type": "code",
   "execution_count": 390,
   "metadata": {},
   "outputs": [
    {
     "data": {
      "text/plain": [
       "[<matplotlib.lines.Line2D at 0x1a234e7f50>]"
      ]
     },
     "execution_count": 390,
     "metadata": {},
     "output_type": "execute_result"
    },
    {
     "data": {
      "image/png": "[encoded data removed]",
      "text/plain": [
       "<Figure size 432x288 with 1 Axes>"
      ]
     },
     "metadata": {
      "needs_background": "light"
     },
     "output_type": "display_data"
    }
   ],
   "source": [
    "ave_ls = []\n",
    "for week in week_ls:\n",
    "    ave_ls.append(data_f[week].mean())\n",
    "    \n",
    "ave_nps = pd.DataFrame({'a': ave_ls,\n",
    "                       'y': range(1,9)})\n",
    "    \n",
    "plt.plot('y', 'a', data=ave_nps, marker='', color='orange', linewidth=2)\n",
    "\n"
   ]
  },
  {
   "cell_type": "code",
   "execution_count": 424,
   "metadata": {},
   "outputs": [
    {
     "ename": "AttributeError",
     "evalue": "'DataFrameGroupBy' object has no attribute 'value_counts'",
     "output_type": "error",
     "traceback": [
      "\u001b[0;31m---------------------------------------------------------------------------\u001b[0m",
      "\u001b[0;31mAttributeError\u001b[0m                            Traceback (most recent call last)",
      "\u001b[0;32m<ipython-input-424-a2d3bbf6521d>\u001b[0m in \u001b[0;36m<module>\u001b[0;34m\u001b[0m\n\u001b[1;32m      1\u001b[0m \u001b[0;31m# sum all the rating not counts\u001b[0m\u001b[0;34m\u001b[0m\u001b[0;34m\u001b[0m\u001b[0;34m\u001b[0m\u001b[0m\n\u001b[0;32m----> 2\u001b[0;31m \u001b[0mdf\u001b[0m\u001b[0;34m[\u001b[0m\u001b[0mdf\u001b[0m\u001b[0;34m[\u001b[0m\u001b[0;34m'Week'\u001b[0m\u001b[0;34m]\u001b[0m \u001b[0;34m==\u001b[0m \u001b[0;34m'Week 2'\u001b[0m\u001b[0;34m]\u001b[0m\u001b[0;34m.\u001b[0m\u001b[0mgroupby\u001b[0m\u001b[0;34m(\u001b[0m\u001b[0;34m'Category'\u001b[0m\u001b[0;34m)\u001b[0m\u001b[0;34m.\u001b[0m\u001b[0mvalue_counts\u001b[0m\u001b[0;34m(\u001b[0m\u001b[0;34m)\u001b[0m\u001b[0;34m\u001b[0m\u001b[0;34m\u001b[0m\u001b[0m\n\u001b[0m",
      "\u001b[0;32m~/Downloads/anaconda3/lib/python3.7/site-packages/pandas/core/groupby/groupby.py\u001b[0m in \u001b[0;36m__getattr__\u001b[0;34m(self, attr)\u001b[0m\n",
      "\u001b[0;31mAttributeError\u001b[0m: 'DataFrameGroupBy' object has no attribute 'value_counts'"
     ]
    }
   ],
   "source": [
    "# sum all the rating not counts\n",
    "df[df['Week'] == 'Week 2'].groupby('Category').value_counts()\n"
   ]
  },
  {
   "cell_type": "code",
   "execution_count": 422,
   "metadata": {},
   "outputs": [
    {
     "data": {
      "text/html": [
       "<div>\n",
       "<style scoped>\n",
       "    .dataframe tbody tr th:only-of-type {\n",
       "        vertical-align: middle;\n",
       "    }\n",
       "\n",
       "    .dataframe tbody tr th {\n",
       "        vertical-align: top;\n",
       "    }\n",
       "\n",
       "    .dataframe thead th {\n",
       "        text-align: right;\n",
       "    }\n",
       "</style>\n",
       "<table border=\"1\" class=\"dataframe\">\n",
       "  <thead>\n",
       "    <tr style=\"text-align: right;\">\n",
       "      <th></th>\n",
       "      <th>ID</th>\n",
       "      <th>Location</th>\n",
       "      <th>Track</th>\n",
       "      <th>Week</th>\n",
       "      <th>Rating (Num)</th>\n",
       "      <th>Schedule Pacing</th>\n",
       "      <th>Category</th>\n",
       "    </tr>\n",
       "  </thead>\n",
       "  <tbody>\n",
       "    <tr>\n",
       "      <td>3</td>\n",
       "      <td>253</td>\n",
       "      <td>NaN</td>\n",
       "      <td>NaN</td>\n",
       "      <td>Week 2</td>\n",
       "      <td>1</td>\n",
       "      <td>A little too fast</td>\n",
       "      <td>Detractor (1-6)</td>\n",
       "    </tr>\n",
       "    <tr>\n",
       "      <td>550</td>\n",
       "      <td>581</td>\n",
       "      <td>NaN</td>\n",
       "      <td>NaN</td>\n",
       "      <td>Week 2</td>\n",
       "      <td>1</td>\n",
       "      <td>A little too fast</td>\n",
       "      <td>Detractor (1-6)</td>\n",
       "    </tr>\n",
       "    <tr>\n",
       "      <td>551</td>\n",
       "      <td>582</td>\n",
       "      <td>New York City</td>\n",
       "      <td>Apps</td>\n",
       "      <td>Week 2</td>\n",
       "      <td>4</td>\n",
       "      <td>A little too fast</td>\n",
       "      <td>Detractor (1-6)</td>\n",
       "    </tr>\n",
       "    <tr>\n",
       "      <td>552</td>\n",
       "      <td>583</td>\n",
       "      <td>New York City</td>\n",
       "      <td>Apps</td>\n",
       "      <td>Week 2</td>\n",
       "      <td>5</td>\n",
       "      <td>Just right</td>\n",
       "      <td>Detractor (1-6)</td>\n",
       "    </tr>\n",
       "    <tr>\n",
       "      <td>553</td>\n",
       "      <td>584</td>\n",
       "      <td>New York City</td>\n",
       "      <td>Apps</td>\n",
       "      <td>Week 2</td>\n",
       "      <td>5</td>\n",
       "      <td>Just right</td>\n",
       "      <td>Detractor (1-6)</td>\n",
       "    </tr>\n",
       "    <tr>\n",
       "      <td>...</td>\n",
       "      <td>...</td>\n",
       "      <td>...</td>\n",
       "      <td>...</td>\n",
       "      <td>...</td>\n",
       "      <td>...</td>\n",
       "      <td>...</td>\n",
       "      <td>...</td>\n",
       "    </tr>\n",
       "    <tr>\n",
       "      <td>548</td>\n",
       "      <td>579</td>\n",
       "      <td>NaN</td>\n",
       "      <td>NaN</td>\n",
       "      <td>Week 2</td>\n",
       "      <td>7</td>\n",
       "      <td>A little too fast</td>\n",
       "      <td>Passive (7-8)</td>\n",
       "    </tr>\n",
       "    <tr>\n",
       "      <td>509</td>\n",
       "      <td>537</td>\n",
       "      <td>Washington DC</td>\n",
       "      <td>Apps</td>\n",
       "      <td>Week 2</td>\n",
       "      <td>7</td>\n",
       "      <td>A little too fast</td>\n",
       "      <td>Passive (7-8)</td>\n",
       "    </tr>\n",
       "    <tr>\n",
       "      <td>581</td>\n",
       "      <td>612</td>\n",
       "      <td>New York City</td>\n",
       "      <td>Apps, Explorer</td>\n",
       "      <td>Week 2</td>\n",
       "      <td>7</td>\n",
       "      <td>Just right</td>\n",
       "      <td>Passive (7-8)</td>\n",
       "    </tr>\n",
       "    <tr>\n",
       "      <td>1340</td>\n",
       "      <td>1387</td>\n",
       "      <td>NaN</td>\n",
       "      <td>NaN</td>\n",
       "      <td>Week 2</td>\n",
       "      <td>7</td>\n",
       "      <td>Just right</td>\n",
       "      <td>Passive (7-8)</td>\n",
       "    </tr>\n",
       "    <tr>\n",
       "      <td>1310</td>\n",
       "      <td>1356</td>\n",
       "      <td>NaN</td>\n",
       "      <td>NaN</td>\n",
       "      <td>Week 2</td>\n",
       "      <td>11</td>\n",
       "      <td>NaN</td>\n",
       "      <td>Promoter (9-10)</td>\n",
       "    </tr>\n",
       "  </tbody>\n",
       "</table>\n",
       "<p>277 rows × 7 columns</p>\n",
       "</div>"
      ],
      "text/plain": [
       "        ID       Location           Track    Week  Rating (Num)  \\\n",
       "3      253            NaN             NaN  Week 2             1   \n",
       "550    581            NaN             NaN  Week 2             1   \n",
       "551    582  New York City            Apps  Week 2             4   \n",
       "552    583  New York City            Apps  Week 2             5   \n",
       "553    584  New York City            Apps  Week 2             5   \n",
       "...    ...            ...             ...     ...           ...   \n",
       "548    579            NaN             NaN  Week 2             7   \n",
       "509    537  Washington DC            Apps  Week 2             7   \n",
       "581    612  New York City  Apps, Explorer  Week 2             7   \n",
       "1340  1387            NaN             NaN  Week 2             7   \n",
       "1310  1356            NaN             NaN  Week 2            11   \n",
       "\n",
       "        Schedule Pacing         Category  \n",
       "3     A little too fast  Detractor (1-6)  \n",
       "550   A little too fast  Detractor (1-6)  \n",
       "551   A little too fast  Detractor (1-6)  \n",
       "552          Just right  Detractor (1-6)  \n",
       "553          Just right  Detractor (1-6)  \n",
       "...                 ...              ...  \n",
       "548   A little too fast    Passive (7-8)  \n",
       "509   A little too fast    Passive (7-8)  \n",
       "581          Just right    Passive (7-8)  \n",
       "1340         Just right    Passive (7-8)  \n",
       "1310                NaN  Promoter (9-10)  \n",
       "\n",
       "[277 rows x 7 columns]"
      ]
     },
     "execution_count": 422,
     "metadata": {},
     "output_type": "execute_result"
    }
   ],
   "source": [
    "df[df['Week'] == 'Week 2'].sort_values('Category')\n"
   ]
  },
  {
   "cell_type": "code",
   "execution_count": null,
   "metadata": {},
   "outputs": [],
   "source": []
  }
 ],
 "metadata": {
  "kernelspec": {
   "display_name": "Python 3",
   "language": "python",
   "name": "python3"
  },
  "language_info": {
   "codemirror_mode": {
    "name": "ipython",
    "version": 3
   },
   "file_extension": ".py",
   "mimetype": "text/x-python",
   "name": "python",
   "nbconvert_exporter": "python",
   "pygments_lexer": "ipython3",
   "version": "3.7.4"
  }
 },
 "nbformat": 4,
 "nbformat_minor": 2
}
